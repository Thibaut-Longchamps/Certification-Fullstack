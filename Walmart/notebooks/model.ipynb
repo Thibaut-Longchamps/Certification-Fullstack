{
 "cells": [
  {
   "cell_type": "code",
   "execution_count": 174,
   "metadata": {},
   "outputs": [],
   "source": [
    "# Import librairies\n",
    "\n",
    "import numpy as np\n",
    "import pandas as pd\n",
    "\n",
    "from sklearn.model_selection import train_test_split\n",
    "from sklearn.impute import SimpleImputer\n",
    "from sklearn.preprocessing import  OneHotEncoder, StandardScaler\n",
    "from sklearn.compose import ColumnTransformer\n",
    "from sklearn.linear_model import LinearRegression\n",
    "from sklearn.metrics import r2_score\n",
    "from sklearn.pipeline import Pipeline\n",
    "from sklearn.compose import ColumnTransformer\n",
    "from sklearn.impute import SimpleImputer\n",
    "from sklearn.preprocessing import StandardScaler\n",
    "from sklearn.preprocessing import OneHotEncoder\n",
    "from sklearn.preprocessing import LabelEncoder\n",
    "from sklearn.model_selection import cross_val_score, GridSearchCV\n",
    "from sklearn.linear_model import Ridge\n",
    "from sklearn.linear_model import Lasso\n",
    "\n",
    "import warnings\n",
    "warnings.filterwarnings(\"ignore\", category=DeprecationWarning) # to avoid deprecation warnings\n",
    "\n",
    "import plotly.express as px\n",
    "import plotly.graph_objects as go\n",
    "import plotly.io as pio"
   ]
  },
  {
   "cell_type": "code",
   "execution_count": 175,
   "metadata": {},
   "outputs": [
    {
     "data": {
      "text/html": [
       "<div>\n",
       "<style scoped>\n",
       "    .dataframe tbody tr th:only-of-type {\n",
       "        vertical-align: middle;\n",
       "    }\n",
       "\n",
       "    .dataframe tbody tr th {\n",
       "        vertical-align: top;\n",
       "    }\n",
       "\n",
       "    .dataframe thead th {\n",
       "        text-align: right;\n",
       "    }\n",
       "</style>\n",
       "<table border=\"1\" class=\"dataframe\">\n",
       "  <thead>\n",
       "    <tr style=\"text-align: right;\">\n",
       "      <th></th>\n",
       "      <th>Store</th>\n",
       "      <th>Weekly_Sales</th>\n",
       "      <th>Holiday_Flag</th>\n",
       "      <th>Temperature</th>\n",
       "      <th>Fuel_Price</th>\n",
       "      <th>CPI</th>\n",
       "      <th>Unemployment</th>\n",
       "      <th>Year</th>\n",
       "      <th>Month</th>\n",
       "      <th>Day</th>\n",
       "      <th>Weekday</th>\n",
       "    </tr>\n",
       "  </thead>\n",
       "  <tbody>\n",
       "    <tr>\n",
       "      <th>0</th>\n",
       "      <td>6.0</td>\n",
       "      <td>1572117.54</td>\n",
       "      <td>NaN</td>\n",
       "      <td>59.61</td>\n",
       "      <td>3.045</td>\n",
       "      <td>214.777523</td>\n",
       "      <td>6.858</td>\n",
       "      <td>2011.0</td>\n",
       "      <td>2.0</td>\n",
       "      <td>18.0</td>\n",
       "      <td>4.0</td>\n",
       "    </tr>\n",
       "    <tr>\n",
       "      <th>1</th>\n",
       "      <td>13.0</td>\n",
       "      <td>1807545.43</td>\n",
       "      <td>0.0</td>\n",
       "      <td>42.38</td>\n",
       "      <td>3.435</td>\n",
       "      <td>128.616064</td>\n",
       "      <td>7.470</td>\n",
       "      <td>2011.0</td>\n",
       "      <td>3.0</td>\n",
       "      <td>25.0</td>\n",
       "      <td>4.0</td>\n",
       "    </tr>\n",
       "    <tr>\n",
       "      <th>2</th>\n",
       "      <td>11.0</td>\n",
       "      <td>1244390.03</td>\n",
       "      <td>0.0</td>\n",
       "      <td>84.57</td>\n",
       "      <td>NaN</td>\n",
       "      <td>214.556497</td>\n",
       "      <td>7.346</td>\n",
       "      <td>NaN</td>\n",
       "      <td>NaN</td>\n",
       "      <td>NaN</td>\n",
       "      <td>NaN</td>\n",
       "    </tr>\n",
       "    <tr>\n",
       "      <th>3</th>\n",
       "      <td>6.0</td>\n",
       "      <td>1644470.66</td>\n",
       "      <td>0.0</td>\n",
       "      <td>78.89</td>\n",
       "      <td>2.759</td>\n",
       "      <td>212.412888</td>\n",
       "      <td>7.092</td>\n",
       "      <td>2010.0</td>\n",
       "      <td>5.0</td>\n",
       "      <td>28.0</td>\n",
       "      <td>4.0</td>\n",
       "    </tr>\n",
       "    <tr>\n",
       "      <th>4</th>\n",
       "      <td>4.0</td>\n",
       "      <td>1857533.70</td>\n",
       "      <td>0.0</td>\n",
       "      <td>NaN</td>\n",
       "      <td>2.756</td>\n",
       "      <td>126.160226</td>\n",
       "      <td>7.896</td>\n",
       "      <td>2010.0</td>\n",
       "      <td>5.0</td>\n",
       "      <td>28.0</td>\n",
       "      <td>4.0</td>\n",
       "    </tr>\n",
       "  </tbody>\n",
       "</table>\n",
       "</div>"
      ],
      "text/plain": [
       "   Store  Weekly_Sales  Holiday_Flag  Temperature  Fuel_Price         CPI  \\\n",
       "0    6.0    1572117.54           NaN        59.61       3.045  214.777523   \n",
       "1   13.0    1807545.43           0.0        42.38       3.435  128.616064   \n",
       "2   11.0    1244390.03           0.0        84.57         NaN  214.556497   \n",
       "3    6.0    1644470.66           0.0        78.89       2.759  212.412888   \n",
       "4    4.0    1857533.70           0.0          NaN       2.756  126.160226   \n",
       "\n",
       "   Unemployment    Year  Month   Day  Weekday  \n",
       "0         6.858  2011.0    2.0  18.0      4.0  \n",
       "1         7.470  2011.0    3.0  25.0      4.0  \n",
       "2         7.346     NaN    NaN   NaN      NaN  \n",
       "3         7.092  2010.0    5.0  28.0      4.0  \n",
       "4         7.896  2010.0    5.0  28.0      4.0  "
      ]
     },
     "execution_count": 175,
     "metadata": {},
     "output_type": "execute_result"
    }
   ],
   "source": [
    "# Display csv to dataframe\n",
    "df = pd.read_csv(r'C:\\Users\\33760\\Desktop\\FULLSTACK\\FULLSTACK\\Projet\\BLOC 3\\Walmart\\data\\clean_file_walmart.csv')\n",
    "df.head()"
   ]
  },
  {
   "cell_type": "code",
   "execution_count": 176,
   "metadata": {},
   "outputs": [
    {
     "name": "stdout",
     "output_type": "stream",
     "text": [
      "Separating labels from features...\n",
      "...Done.\n",
      "\n",
      "Y : \n",
      "0    1572117.54\n",
      "1    1807545.43\n",
      "2    1244390.03\n",
      "3    1644470.66\n",
      "4    1857533.70\n",
      "Name: Weekly_Sales, dtype: float64\n",
      "\n",
      "X :\n"
     ]
    },
    {
     "data": {
      "text/html": [
       "<div>\n",
       "<style scoped>\n",
       "    .dataframe tbody tr th:only-of-type {\n",
       "        vertical-align: middle;\n",
       "    }\n",
       "\n",
       "    .dataframe tbody tr th {\n",
       "        vertical-align: top;\n",
       "    }\n",
       "\n",
       "    .dataframe thead th {\n",
       "        text-align: right;\n",
       "    }\n",
       "</style>\n",
       "<table border=\"1\" class=\"dataframe\">\n",
       "  <thead>\n",
       "    <tr style=\"text-align: right;\">\n",
       "      <th></th>\n",
       "      <th>Store</th>\n",
       "      <th>Holiday_Flag</th>\n",
       "      <th>Temperature</th>\n",
       "      <th>Fuel_Price</th>\n",
       "      <th>CPI</th>\n",
       "      <th>Unemployment</th>\n",
       "      <th>Year</th>\n",
       "      <th>Month</th>\n",
       "      <th>Day</th>\n",
       "      <th>Weekday</th>\n",
       "    </tr>\n",
       "  </thead>\n",
       "  <tbody>\n",
       "    <tr>\n",
       "      <th>0</th>\n",
       "      <td>6.0</td>\n",
       "      <td>NaN</td>\n",
       "      <td>59.61</td>\n",
       "      <td>3.045</td>\n",
       "      <td>214.777523</td>\n",
       "      <td>6.858</td>\n",
       "      <td>2011.0</td>\n",
       "      <td>2.0</td>\n",
       "      <td>18.0</td>\n",
       "      <td>4.0</td>\n",
       "    </tr>\n",
       "    <tr>\n",
       "      <th>1</th>\n",
       "      <td>13.0</td>\n",
       "      <td>0.0</td>\n",
       "      <td>42.38</td>\n",
       "      <td>3.435</td>\n",
       "      <td>128.616064</td>\n",
       "      <td>7.470</td>\n",
       "      <td>2011.0</td>\n",
       "      <td>3.0</td>\n",
       "      <td>25.0</td>\n",
       "      <td>4.0</td>\n",
       "    </tr>\n",
       "    <tr>\n",
       "      <th>2</th>\n",
       "      <td>11.0</td>\n",
       "      <td>0.0</td>\n",
       "      <td>84.57</td>\n",
       "      <td>NaN</td>\n",
       "      <td>214.556497</td>\n",
       "      <td>7.346</td>\n",
       "      <td>NaN</td>\n",
       "      <td>NaN</td>\n",
       "      <td>NaN</td>\n",
       "      <td>NaN</td>\n",
       "    </tr>\n",
       "    <tr>\n",
       "      <th>3</th>\n",
       "      <td>6.0</td>\n",
       "      <td>0.0</td>\n",
       "      <td>78.89</td>\n",
       "      <td>2.759</td>\n",
       "      <td>212.412888</td>\n",
       "      <td>7.092</td>\n",
       "      <td>2010.0</td>\n",
       "      <td>5.0</td>\n",
       "      <td>28.0</td>\n",
       "      <td>4.0</td>\n",
       "    </tr>\n",
       "    <tr>\n",
       "      <th>4</th>\n",
       "      <td>4.0</td>\n",
       "      <td>0.0</td>\n",
       "      <td>NaN</td>\n",
       "      <td>2.756</td>\n",
       "      <td>126.160226</td>\n",
       "      <td>7.896</td>\n",
       "      <td>2010.0</td>\n",
       "      <td>5.0</td>\n",
       "      <td>28.0</td>\n",
       "      <td>4.0</td>\n",
       "    </tr>\n",
       "  </tbody>\n",
       "</table>\n",
       "</div>"
      ],
      "text/plain": [
       "   Store  Holiday_Flag  Temperature  Fuel_Price         CPI  Unemployment  \\\n",
       "0    6.0           NaN        59.61       3.045  214.777523         6.858   \n",
       "1   13.0           0.0        42.38       3.435  128.616064         7.470   \n",
       "2   11.0           0.0        84.57         NaN  214.556497         7.346   \n",
       "3    6.0           0.0        78.89       2.759  212.412888         7.092   \n",
       "4    4.0           0.0          NaN       2.756  126.160226         7.896   \n",
       "\n",
       "     Year  Month   Day  Weekday  \n",
       "0  2011.0    2.0  18.0      4.0  \n",
       "1  2011.0    3.0  25.0      4.0  \n",
       "2     NaN    NaN   NaN      NaN  \n",
       "3  2010.0    5.0  28.0      4.0  \n",
       "4  2010.0    5.0  28.0      4.0  "
      ]
     },
     "execution_count": 176,
     "metadata": {},
     "output_type": "execute_result"
    }
   ],
   "source": [
    "# Separate target variable Y from features X\n",
    "print(\"Separating labels from features...\")\n",
    "target_variable = \"Weekly_Sales\"\n",
    "\n",
    "X = df.drop(target_variable, axis = 1)\n",
    "Y = df.loc[:,target_variable]\n",
    "\n",
    "print(\"...Done.\")\n",
    "print()\n",
    "\n",
    "print('Y : ')\n",
    "print(Y.head())\n",
    "print()\n",
    "print('X :')\n",
    "X.head()"
   ]
  },
  {
   "cell_type": "code",
   "execution_count": 177,
   "metadata": {},
   "outputs": [
    {
     "name": "stdout",
     "output_type": "stream",
     "text": [
      "Dividing into train and test sets...\n",
      "...Done.\n",
      "\n"
     ]
    }
   ],
   "source": [
    "# Divide dataset Train set & Test set \n",
    "print(\"Dividing into train and test sets...\")\n",
    "\n",
    "X_train, X_test, y_train, y_test = train_test_split(X, Y, test_size =0.2, random_state = 1)\n",
    "\n",
    "print(\"...Done.\")\n",
    "print()"
   ]
  },
  {
   "cell_type": "code",
   "execution_count": 178,
   "metadata": {},
   "outputs": [],
   "source": [
    "# Save the original column names\n",
    "feature_names = X_train.columns.tolist()"
   ]
  },
  {
   "cell_type": "code",
   "execution_count": 179,
   "metadata": {},
   "outputs": [],
   "source": [
    "# Separate numeric/categorical columns\n",
    "numeric_features = ['Temperature', 'Fuel_Price', 'CPI', 'Unemployment', 'Year', 'Month', 'Day', 'Weekday']\n",
    "categorical_features = ['Store', 'Holiday_Flag']"
   ]
  },
  {
   "cell_type": "code",
   "execution_count": 180,
   "metadata": {},
   "outputs": [],
   "source": [
    "# Create pipeline for numeric features\n",
    "numeric_transformer = Pipeline(steps=[\n",
    "    ('imputer', SimpleImputer(strategy = 'median')),\n",
    "    ('scaler', StandardScaler())\n",
    "])\n",
    "\n",
    "# Create pipeline for categorical features\n",
    "categorical_transformer = Pipeline(\n",
    "    steps=[\n",
    "    ('imputer', SimpleImputer(strategy = 'most_frequent')),\n",
    "    ('encoder', OneHotEncoder(handle_unknown ='ignore', drop = 'first'))\n",
    "])\n"
   ]
  },
  {
   "cell_type": "code",
   "execution_count": 181,
   "metadata": {},
   "outputs": [],
   "source": [
    "preprocessor = ColumnTransformer(transformers = [\n",
    "    ('cat', categorical_transformer, categorical_features),\n",
    "    ('num', numeric_transformer, numeric_features)\n",
    "])"
   ]
  },
  {
   "cell_type": "code",
   "execution_count": 182,
   "metadata": {},
   "outputs": [
    {
     "name": "stdout",
     "output_type": "stream",
     "text": [
      "Preprocessing X_train...\n",
      "    Store  Holiday_Flag  Temperature  Fuel_Price         CPI  Unemployment  \\\n",
      "56   10.0           NaN        43.43       3.287  127.191774         8.744   \n",
      "94    7.0           0.0        39.30       3.936  197.722738         8.090   \n",
      "35   16.0           0.0          NaN       3.659  198.126718         6.061   \n",
      "38    1.0           1.0        38.51       2.548  211.242170         8.106   \n",
      "93   11.0           1.0        69.90       2.735  215.061403         7.564   \n",
      "\n",
      "      Year  Month   Day  Weekday  \n",
      "56     NaN    NaN   NaN      NaN  \n",
      "94  2012.0    4.0  20.0      4.0  \n",
      "35  2012.0    9.0  14.0      4.0  \n",
      "38  2010.0    2.0  12.0      4.0  \n",
      "93  2010.0   11.0  26.0      4.0  \n",
      "\n",
      "...Done!\n",
      "[[ 0.          0.          0.          0.          0.          0.\n",
      "   0.          0.          1.          0.          0.          0.\n",
      "   0.          0.          0.          0.          0.          0.\n",
      "   0.         -0.94097806 -0.12627711 -1.39438569  1.34393812  0.12456822\n",
      "  -0.05720272  0.00848744  0.        ]\n",
      " [ 0.          0.          0.          0.          0.          1.\n",
      "   0.          0.          0.          0.          0.          0.\n",
      "   0.          0.          0.          0.          0.          0.\n",
      "   0.         -1.18246906  1.32189077  0.43295882  0.68626927  1.41177316\n",
      "  -0.72218431  0.40315328  0.        ]\n",
      " [ 0.          0.          0.          0.          0.          0.\n",
      "   0.          0.          0.          0.          0.          0.\n",
      "   0.          1.          0.          0.          0.          0.\n",
      "   0.          0.03492625  0.70379754  0.4434253  -1.35411316  1.41177316\n",
      "   0.94026967 -0.3861784   0.        ]\n",
      " [ 0.          0.          0.          0.          0.          0.\n",
      "   0.          0.          0.          0.          0.          0.\n",
      "   0.          0.          0.          0.          0.          0.\n",
      "   1.         -1.22866226 -1.7752695   0.78322567  0.70235902 -1.16263672\n",
      "  -1.38716591 -0.64928897  0.        ]\n",
      " [ 0.          0.          0.          0.          0.          0.\n",
      "   0.          0.          0.          1.          0.          0.\n",
      "   0.          0.          0.          0.          0.          0.\n",
      "   1.          0.6067863  -1.35800079  0.88217588  0.15731847 -1.16263672\n",
      "   1.60525127  1.19248496  0.        ]]\n",
      "\n"
     ]
    }
   ],
   "source": [
    "print(\"Preprocessing X_train...\")\n",
    "print(X_train.head())\n",
    "print()\n",
    "X_train = preprocessor.fit_transform(X_train)\n",
    "print(\"...Done!\")\n",
    "print(X_train[0:5,:]) # X_train is now a numpy array\n",
    "print() "
   ]
  },
  {
   "cell_type": "code",
   "execution_count": 183,
   "metadata": {},
   "outputs": [
    {
     "name": "stdout",
     "output_type": "stream",
     "text": [
      "Preprocessing X_test...\n",
      "     Store  Holiday_Flag  Temperature  Fuel_Price         CPI  Unemployment  \\\n",
      "69    15.0           0.0        79.97       3.972  135.873839         7.806   \n",
      "46    14.0           NaN        41.76       3.625  184.994368         8.549   \n",
      "58     3.0           0.0        45.71       2.572  214.424881         7.368   \n",
      "114    3.0           0.0        73.44       3.594  226.968844         6.034   \n",
      "73    20.0           0.0        39.79       3.739  213.472512         6.961   \n",
      "\n",
      "       Year  Month   Day  Weekday  \n",
      "69      NaN    NaN   NaN      NaN  \n",
      "46   2011.0    3.0  25.0      4.0  \n",
      "58   2010.0    2.0   5.0      4.0  \n",
      "114  2012.0   10.0  19.0      4.0  \n",
      "73      NaN    NaN   NaN      NaN  \n",
      "\n",
      "...Done!\n",
      "[[ 0.          0.          0.          0.          0.          0.\n",
      "   0.          0.          0.          0.          0.          0.\n",
      "   1.          0.          0.          0.          0.          0.\n",
      "   0.          1.19560335  1.40222057 -1.16944728  0.40067606  0.12456822\n",
      "  -0.05720272  0.00848744  0.        ]\n",
      " [ 0.          0.          0.          0.          0.          0.\n",
      "   0.          0.          0.          0.          0.          1.\n",
      "   0.          0.          0.          0.          0.          0.\n",
      "   0.         -1.03862697  0.62793051  0.10318709  1.1478442   0.12456822\n",
      "  -1.05467511  1.06092968  0.        ]\n",
      " [ 0.          1.          0.          0.          0.          0.\n",
      "   0.          0.          0.          0.          0.          0.\n",
      "   0.          0.          0.          0.          0.          0.\n",
      "   0.         -0.80766099 -1.7217163   0.86568463 -0.03978106 -1.16263672\n",
      "  -1.38716591 -1.57017593  0.        ]\n",
      " [ 0.          1.          0.          0.          0.          0.\n",
      "   0.          0.          0.          0.          0.          0.\n",
      "   0.          0.          0.          0.          0.          0.\n",
      "   0.          0.81377859  0.55875762  1.19067866 -1.38126463  1.41177316\n",
      "   1.27276047  0.271598    0.        ]\n",
      " [ 0.          0.          0.          0.          0.          0.\n",
      "   0.          0.          0.          0.          0.          0.\n",
      "   0.          0.          0.          0.          0.          1.\n",
      "   0.         -1.15381759  0.88230822  0.84101026 -0.44906428  0.12456822\n",
      "  -0.05720272  0.00848744  0.        ]]\n",
      "\n"
     ]
    }
   ],
   "source": [
    "# Test pipeline\n",
    "print(\"Preprocessing X_test...\")\n",
    "print(X_test.head())\n",
    "print()\n",
    "X_test = preprocessor.transform(X_test)\n",
    "print(\"...Done!\")\n",
    "print(X_test[0:5,:]) # X_test is now a numpy array\n",
    "print() "
   ]
  },
  {
   "cell_type": "code",
   "execution_count": 184,
   "metadata": {},
   "outputs": [
    {
     "name": "stdout",
     "output_type": "stream",
     "text": [
      "Train model...\n",
      "...Done.\n"
     ]
    }
   ],
   "source": [
    "# Train model\n",
    "\n",
    "print(\"Train model...\")\n",
    "regressor = LinearRegression()\n",
    "regressor.fit(X_train, y_train)\n",
    "print(\"...Done.\")"
   ]
  },
  {
   "cell_type": "code",
   "execution_count": 185,
   "metadata": {},
   "outputs": [
    {
     "name": "stdout",
     "output_type": "stream",
     "text": [
      "Predictions on training set...\n",
      "...Done.\n",
      "[1811324.505708    482480.14228712  587861.84376682 1573955.21318016\n",
      " 1671994.595484   1967331.24105506  399877.3662813  1386669.73197778\n",
      " 1907850.07551515 1610780.23130492  525145.80946968 2207944.27909626\n",
      " 1988108.77883165 1564735.89522569 1179700.53935501 1336341.19168454\n",
      "  556367.29617002 1594888.61592527 1519718.29979726 1850763.19514304\n",
      "  285293.22686707 2017249.32451669 1938581.20228187  219206.61186549\n",
      "  351234.0229148  1753118.94423583  935873.61886848  286720.47959628\n",
      "  994967.85974339 1939264.85260038  586150.7755027  1955475.65794551\n",
      " 1688367.24155444 1134605.38476036 1482608.1193329  1521926.55405719\n",
      " 2078150.56522726 2056700.38610087 2119954.89806582 2136552.24250577\n",
      " 1595118.43188802  405686.41931357  481572.0514169   361066.26042401\n",
      "  379055.64462111  909249.61550878 1444810.0726976  1914632.56731192\n",
      " 1534453.94968912 1063030.56774689  371998.26992221  454235.88856018\n",
      " 1867347.33850173 2057091.85834575  902259.63161426 2127801.16780351\n",
      " 1552123.05330877 2020519.08202121 1170655.40712243  938032.68099474\n",
      " 1550755.43179762  584313.93061892  402278.87791049  439139.81490214\n",
      " 1515815.91724944  363202.1991199  1375792.76816935 1369053.49946926\n",
      " 1654855.854516    473362.44420401 2139621.28509672 1340068.50044393\n",
      " 2145894.8158554  1522557.11101761 1051280.17279227  229479.97164732\n",
      " 1349455.50347814 1589511.82806738  821207.57127356 1986011.66548332\n",
      "  811027.93817069  989225.07279797 1869162.57792918 2008245.53916229\n",
      " 1654225.47221583  891637.97400848  681693.48938109  485389.15\n",
      " 1179015.22650189  396329.74116369  981036.24676303 2099108.93210538\n",
      "  500896.10207319]\n",
      "\n"
     ]
    }
   ],
   "source": [
    "# Predictions on training set\n",
    "print(\"Predictions on training set...\")\n",
    "Y_train_pred = regressor.predict(X_train)\n",
    "print(\"...Done.\")\n",
    "print(Y_train_pred)\n",
    "print()"
   ]
  },
  {
   "cell_type": "code",
   "execution_count": 186,
   "metadata": {},
   "outputs": [
    {
     "name": "stdout",
     "output_type": "stream",
     "text": [
      "Predictions on test set...\n",
      "...Done.\n",
      "[ 599801.24257857 2039576.78600081  422832.96405758  468229.28575301\n",
      " 1981485.09050173  638817.02391246 1032649.33293176 1832441.87678847\n",
      " 1922805.3097631   979926.57337369  418737.94407188  173850.57176535\n",
      " 1582423.51378937 1899147.43870571  466329.70768858 2227954.07134507\n",
      " 1994982.4552802  1450971.56654474  526727.91447067 2051854.82875551\n",
      " 2113683.2271641   598090.56060765 2030552.91424899 1888016.19587168]\n",
      "\n"
     ]
    }
   ],
   "source": [
    "# Predictions on test set\n",
    "print(\"Predictions on test set...\")\n",
    "Y_test_pred = regressor.predict(X_test)\n",
    "print(\"...Done.\")\n",
    "print(Y_test_pred)\n",
    "print()"
   ]
  },
  {
   "cell_type": "code",
   "execution_count": 187,
   "metadata": {},
   "outputs": [
    {
     "name": "stdout",
     "output_type": "stream",
     "text": [
      "R2 score on training set :  0.9733501248908372\n",
      "R2 score on test set :  0.954365742398211\n"
     ]
    }
   ],
   "source": [
    "# Print R^2 scores\n",
    "print(\"R2 score on training set : \", r2_score(y_train, Y_train_pred))\n",
    "print(\"R2 score on test set : \", r2_score(y_test, Y_test_pred))"
   ]
  },
  {
   "attachments": {},
   "cell_type": "markdown",
   "metadata": {},
   "source": [
    "### It seems that our model  a bit. R2 train score is higher than R2 test score. Our model seems unable to generalise its performance over the data set on which it is not trained. Even though it seems to remain relatively balanced"
   ]
  },
  {
   "cell_type": "code",
   "execution_count": 188,
   "metadata": {},
   "outputs": [
    {
     "data": {
      "text/plain": [
       "array([ 3.62044429e+05, -1.20625287e+06,  6.63852319e+05, -1.33725530e+06,\n",
       "        1.83458404e+04, -9.74439230e+05, -7.02377149e+05, -1.19413125e+06,\n",
       "        4.75607960e+05,  3.64870552e+04,  5.93728259e+05,  6.55561870e+05,\n",
       "       -7.11338175e+05, -1.03221799e+06, -5.61463682e+05, -2.47749398e+05,\n",
       "        6.49924688e+04,  3.89559280e+05,  8.57428844e+02, -1.93726070e+04,\n",
       "       -2.06057973e+04,  1.00141893e+05, -2.73351172e+04, -3.56244870e+03,\n",
       "        5.15659496e+04, -3.98565405e+04,  0.00000000e+00])"
      ]
     },
     "execution_count": 188,
     "metadata": {},
     "output_type": "execute_result"
    }
   ],
   "source": [
    "# Get features weights \n",
    "weights = regressor.coef_\n",
    "weights"
   ]
  },
  {
   "cell_type": "code",
   "execution_count": 189,
   "metadata": {},
   "outputs": [
    {
     "data": {
      "text/plain": [
       "{'Store': 362044.4290331271,\n",
       " 'Holiday_Flag': -1206252.8733116998,\n",
       " 'Temperature': 663852.318892876,\n",
       " 'Fuel_Price': -1337255.2994587,\n",
       " 'CPI': 18345.840383437346,\n",
       " 'Unemployment': -974439.2299637842,\n",
       " 'Year': -702377.1488266144,\n",
       " 'Month': -1194131.247591501,\n",
       " 'Day': 475607.9601536676,\n",
       " 'Weekday': 36487.055193280976}"
      ]
     },
     "execution_count": 189,
     "metadata": {},
     "output_type": "execute_result"
    }
   ],
   "source": [
    "# Associate each weight with its corresponding column\n",
    "weights_dict = dict(zip(feature_names, weights))\n",
    "weights_dict"
   ]
  },
  {
   "cell_type": "code",
   "execution_count": 190,
   "metadata": {},
   "outputs": [
    {
     "name": "stdout",
     "output_type": "stream",
     "text": [
      "Temperature :  663852.318892876\n",
      "Day :  475607.9601536676\n",
      "Store :  362044.4290331271\n",
      "Weekday :  36487.055193280976\n",
      "CPI :  18345.840383437346\n",
      "Year :  -702377.1488266144\n",
      "Unemployment :  -974439.2299637842\n",
      "Month :  -1194131.247591501\n",
      "Holiday_Flag :  -1206252.8733116998\n",
      "Fuel_Price :  -1337255.2994587\n"
     ]
    }
   ],
   "source": [
    "# Associate each weight with its corresponding column\n",
    "sorted_weights = sorted(weights_dict.items(), key=lambda x: x[1], reverse=True)\n",
    "\n",
    "# Show values ​​sorted in descending order\n",
    "for item in sorted_weights:\n",
    "    print(item[0], \": \", item[1])"
   ]
  },
  {
   "attachments": {},
   "cell_type": "markdown",
   "metadata": {},
   "source": [
    "## Ridge regularization & Griedsearch"
   ]
  },
  {
   "cell_type": "code",
   "execution_count": 191,
   "metadata": {},
   "outputs": [
    {
     "name": "stdout",
     "output_type": "stream",
     "text": [
      "Grid search...\n",
      "...Done.\n",
      "Best hyperparameters :  {'alpha': 0.12}\n",
      "Best R2 score :  0.8980058453720576\n"
     ]
    }
   ],
   "source": [
    "# Perform grid search\n",
    "print(\"Grid search...\")\n",
    "regressor = Ridge()\n",
    "# Grid of values to be tested\n",
    "params = {\n",
    "    'alpha': [0.09, 0.1, 0.12, 0.13] # 0 corresponds to no regularization\n",
    "}\n",
    "gridsearch = GridSearchCV(regressor, param_grid = params, cv = 6 ) # cv : the number of folds to be used for CV\n",
    "gridsearch.fit(X_train, y_train)\n",
    "print(\"...Done.\")\n",
    "print(\"Best hyperparameters : \", gridsearch.best_params_)\n",
    "print(\"Best R2 score : \", gridsearch.best_score_)"
   ]
  },
  {
   "cell_type": "code",
   "execution_count": 194,
   "metadata": {},
   "outputs": [
    {
     "name": "stdout",
     "output_type": "stream",
     "text": [
      "R2 score on training set :  0.9709126184859799\n",
      "R2 score on test set :  0.9416177859388987\n"
     ]
    }
   ],
   "source": [
    "# Print R^2 scores with griedsearch \n",
    "print(\"R2 score on training set : \", gridsearch.score(X_train, y_train))\n",
    "print(\"R2 score on test set : \", gridsearch.score(X_test, y_test))"
   ]
  },
  {
   "cell_type": "code",
   "execution_count": 193,
   "metadata": {},
   "outputs": [
    {
     "name": "stdout",
     "output_type": "stream",
     "text": [
      "R2 score on training set :  0.9733501248908372\n",
      "R2 score on test set :  0.954365742398211\n"
     ]
    }
   ],
   "source": [
    "# Print R^2 scores without griedsearch \n",
    "print(\"R2 score on training set : \", r2_score(y_train, Y_train_pred))\n",
    "print(\"R2 score on test set : \", r2_score(y_test, Y_test_pred))"
   ]
  },
  {
   "attachments": {},
   "cell_type": "markdown",
   "metadata": {},
   "source": [
    "#### Here, we can see that the model's generalized performance hasn't improved by using a Ridge regularization (tuning the value of the regularization strength) and gried serach Howewer the model remain balanced.\n"
   ]
  }
 ],
 "metadata": {
  "kernelspec": {
   "display_name": "myenv",
   "language": "python",
   "name": "python3"
  },
  "language_info": {
   "codemirror_mode": {
    "name": "ipython",
    "version": 3
   },
   "file_extension": ".py",
   "mimetype": "text/x-python",
   "name": "python",
   "nbconvert_exporter": "python",
   "pygments_lexer": "ipython3",
   "version": "3.9.16"
  },
  "orig_nbformat": 4
 },
 "nbformat": 4,
 "nbformat_minor": 2
}
