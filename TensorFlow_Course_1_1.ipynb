{
  "cells": [
    {
      "cell_type": "markdown",
      "metadata": {
        "id": "view-in-github",
        "colab_type": "text"
      },
      "source": [
        "<a href=\"https://colab.research.google.com/github/Thibaut-Longchamps/Certification-Fullstack/blob/main/TensorFlow_Course_1_1.ipynb\" target=\"_parent\"><img src=\"https://colab.research.google.com/assets/colab-badge.svg\" alt=\"Open In Colab\"/></a>"
      ]
    },
    {
      "cell_type": "code",
      "execution_count": null,
      "id": "5573bec0-a5df-45fe-970f-f9eac6945dd9",
      "metadata": {
        "id": "5573bec0-a5df-45fe-970f-f9eac6945dd9"
      },
      "outputs": [],
      "source": [
        "# Author : Mehdi Ammi, Univ. Paris 8"
      ]
    },
    {
      "cell_type": "markdown",
      "id": "85de1cd4-fe11-4e2f-bdd9-072505b10907",
      "metadata": {
        "id": "85de1cd4-fe11-4e2f-bdd9-072505b10907"
      },
      "source": [
        "# TensorFlow : Basics and Operations\n",
        "\n",
        "This notebook aims to introduce the basic concepts of TensorFlow through simple operations.\n",
        "\n",
        "By the end of this course, you will be able to:\n",
        "\n",
        " - Create TensorFlow computation graphs.\n",
        " - Define and execute operations with constants and variables.\n",
        " - Understand and perform matrix multiplication operations."
      ]
    },
    {
      "cell_type": "markdown",
      "id": "e6c7fec2-710f-4802-9aa3-1f321d1df721",
      "metadata": {
        "id": "e6c7fec2-710f-4802-9aa3-1f321d1df721"
      },
      "source": [
        "## Introduction to Tensors\n",
        "\n",
        "**What is a Tensor?**\n",
        "\n",
        "A tensor is a generalization of vectors and matrices to higher dimensions. It is a fundamental data structure in TensorFlow, representing multi-dimensional arrays with a uniform type.\n",
        "\n",
        "**Tensor Ranks**\n",
        "\n",
        " - Scalar (Rank 0): A single number (e.g., 5).\n",
        " - Vector (Rank 1): An array of numbers (e.g., [1, 2, 3]).\n",
        " - Matrix (Rank 2): A 2D array of numbers (e.g., [[1, 2], [3, 4]]).\n",
        " - Higher-Dimensional Tensors: Arrays with more than two dimensions (e.g., a 3D tensor [[[1], [2]], [[3], [4]]]).\n",
        "\n",
        " TensorFlow Tensors\n",
        "\n",
        "In TensorFlow, tensors are represented as 'tf.Tensor' objects. You can create tensors using various TensorFlow operations like 'tf.constant', 'tf.zeros', and 'tf.ones'."
      ]
    },
    {
      "cell_type": "code",
      "execution_count": 1,
      "id": "49d45b9f-0201-44d9-8a00-1b2f8f990688",
      "metadata": {
        "colab": {
          "base_uri": "https://localhost:8080/"
        },
        "id": "49d45b9f-0201-44d9-8a00-1b2f8f990688",
        "outputId": "ce5f8509-cbae-462e-d686-1fc78c537bbe"
      },
      "outputs": [
        {
          "output_type": "stream",
          "name": "stdout",
          "text": [
            "Scalar: 5\n",
            "Vector: [1 2 3 4]\n",
            "Matrix: [[1 2]\n",
            " [3 4]]\n",
            "Tensor: [[[1 2]\n",
            "  [3 4]]\n",
            "\n",
            " [[5 6]\n",
            "  [7 8]]]\n"
          ]
        }
      ],
      "source": [
        "import tensorflow as tf\n",
        "\n",
        "# Scalar\n",
        "scalar = tf.constant(5)\n",
        "# Vector\n",
        "vector = tf.constant([1, 2, 3, 4])\n",
        "# Matrix\n",
        "matrix = tf.constant([[1, 2], [3, 4]])\n",
        "# Higher-dimensional Tensor\n",
        "tensor = tf.constant([[[1, 2], [3, 4]], [[5, 6], [7, 8]]])\n",
        "\n",
        "print(\"Scalar:\", scalar.numpy())\n",
        "print(\"Vector:\", vector.numpy())\n",
        "print(\"Matrix:\", matrix.numpy())\n",
        "print(\"Tensor:\", tensor.numpy())"
      ]
    },
    {
      "cell_type": "code",
      "source": [
        "print(tensor.ndim)\n",
        "tensor.shape"
      ],
      "metadata": {
        "colab": {
          "base_uri": "https://localhost:8080/"
        },
        "id": "3btLpus4arLW",
        "outputId": "f0ef9380-e1ea-4124-9fe9-417260663fce"
      },
      "id": "3btLpus4arLW",
      "execution_count": 6,
      "outputs": [
        {
          "output_type": "stream",
          "name": "stdout",
          "text": [
            "3\n"
          ]
        },
        {
          "output_type": "execute_result",
          "data": {
            "text/plain": [
              "TensorShape([2, 2, 2])"
            ]
          },
          "metadata": {},
          "execution_count": 6
        }
      ]
    },
    {
      "cell_type": "markdown",
      "id": "bcbc873c-7305-4f74-bc6e-e8d9c1228701",
      "metadata": {
        "id": "bcbc873c-7305-4f74-bc6e-e8d9c1228701"
      },
      "source": [
        "**Explanation**\n",
        "\n",
        " - tf.constant(5) creates a scalar tensor with the value 5.\n",
        " - tf.constant([1, 2, 3, 4]) creates a vector tensor.\n",
        " - tf.constant([[1, 2], [3, 4]]) creates a matrix tensor.\n",
        " - tf.constant([[[1, 2], [3, 4]], [[5, 6], [7, 8]]]) creates a higher-dimensional tensor."
      ]
    },
    {
      "cell_type": "markdown",
      "id": "6b1995c8-17bf-42ff-beab-1e634ee08037",
      "metadata": {
        "id": "6b1995c8-17bf-42ff-beab-1e634ee08037"
      },
      "source": [
        "## Operations with Constants\n",
        "\n",
        "Constants are immutable values defined in the TensorFlow graph. Here’s how to define and execute basic operations with constants."
      ]
    },
    {
      "cell_type": "code",
      "execution_count": 7,
      "id": "c6723aac-ab0f-4b5c-942c-4a94b8a116f7",
      "metadata": {
        "colab": {
          "base_uri": "https://localhost:8080/"
        },
        "id": "c6723aac-ab0f-4b5c-942c-4a94b8a116f7",
        "outputId": "067325d0-8c8c-4788-daed-329c4518ef40"
      },
      "outputs": [
        {
          "output_type": "stream",
          "name": "stdout",
          "text": [
            "a=2, b=3\n",
            "Addition with constants: 5\n",
            "Multiplication with constants: 6\n"
          ]
        }
      ],
      "source": [
        "import tensorflow as tf\n",
        "\n",
        "# Define constants\n",
        "a = tf.constant(2)\n",
        "b = tf.constant(3)\n",
        "\n",
        "print(\"a=2, b=3\")\n",
        "print(\"Addition with constants:\", tf.add(a, b).numpy())\n",
        "print(\"Multiplication with constants:\", tf.multiply(a, b).numpy())"
      ]
    },
    {
      "cell_type": "markdown",
      "id": "dbf7a461-68a3-40fb-8cfd-c680de553d08",
      "metadata": {
        "id": "dbf7a461-68a3-40fb-8cfd-c680de553d08"
      },
      "source": [
        "**Explanation**\n",
        "\n",
        " - tf.constant(2) creates a constant with the value 2.\n",
        " - tf.add(a, b).numpy() executes the addition of constants a and b."
      ]
    },
    {
      "cell_type": "markdown",
      "id": "02066f24-2e03-42ac-8c28-79cff73eaefd",
      "metadata": {
        "id": "02066f24-2e03-42ac-8c28-79cff73eaefd"
      },
      "source": [
        "## Operations with Variables\n",
        "\n",
        "In TensorFlow 2.x, we use tf.Variable or tf.function to define variables and functions."
      ]
    },
    {
      "cell_type": "code",
      "execution_count": 17,
      "id": "f389d43d-7ba1-43b4-8af7-65fd06083e13",
      "metadata": {
        "colab": {
          "base_uri": "https://localhost:8080/"
        },
        "id": "f389d43d-7ba1-43b4-8af7-65fd06083e13",
        "outputId": "19c29b5e-f1ad-47a3-9263-ea2e4b5f14c8"
      },
      "outputs": [
        {
          "output_type": "stream",
          "name": "stdout",
          "text": [
            "Addition with variables: 5\n",
            "Multiplication with variables: 6\n"
          ]
        }
      ],
      "source": [
        "import tensorflow as tf\n",
        "\n",
        "# Define a function that performs addition and multiplication\n",
        "@tf.function\n",
        "def compute(a, b):\n",
        "    add = tf.add(a, b)\n",
        "    mul = tf.multiply(a, b)\n",
        "    return add, mul\n",
        "\n",
        "a = tf.constant(2)\n",
        "b = tf.constant(3)\n",
        "add, mul = compute(a, b)\n",
        "print(\"Addition with variables:\", add.numpy())\n",
        "print(\"Multiplication with variables:\", mul.numpy())"
      ]
    },
    {
      "cell_type": "markdown",
      "id": "c60cd9b4-5446-487a-ad18-86cc434be918",
      "metadata": {
        "id": "c60cd9b4-5446-487a-ad18-86cc434be918"
      },
      "source": [
        "**Explanation**\n",
        "\n",
        " - tf.function creates a callable TensorFlow graph.\n",
        " - The function compute performs addition and multiplication on the input tensors.\n"
      ]
    },
    {
      "cell_type": "markdown",
      "id": "3541196e-6bda-4638-9d58-03eada160541",
      "metadata": {
        "id": "3541196e-6bda-4638-9d58-03eada160541"
      },
      "source": [
        "## Matrix Multiplication\n",
        "\n",
        "TensorFlow also supports more complex operations such as matrix multiplication."
      ]
    },
    {
      "cell_type": "code",
      "execution_count": 21,
      "id": "628d336e-d13f-4231-a36d-1bf9c3f3fda2",
      "metadata": {
        "colab": {
          "base_uri": "https://localhost:8080/"
        },
        "id": "628d336e-d13f-4231-a36d-1bf9c3f3fda2",
        "outputId": "94e6371f-7bfe-4d6e-dfe0-3011c5beec87"
      },
      "outputs": [
        {
          "output_type": "stream",
          "name": "stdout",
          "text": [
            "[[3. 3.]]\n",
            "[[12.]]\n"
          ]
        }
      ],
      "source": [
        "import tensorflow as tf\n",
        "\n",
        "# Define constant matrices\n",
        "matrix1 = tf.constant([[3., 3.]])\n",
        "matrix2 = tf.constant([[2.], [2.]])\n",
        "\n",
        "# Perform matrix multiplication\n",
        "product = tf.matmul(matrix1, matrix2)\n",
        "\n",
        "print(matrix1.numpy())\n",
        "print(product.numpy())  # ==> [[12.]]"
      ]
    },
    {
      "cell_type": "markdown",
      "id": "d337bca2-58c7-4a17-90de-bdd630cd1572",
      "metadata": {
        "id": "d337bca2-58c7-4a17-90de-bdd630cd1572"
      },
      "source": [
        "**Explanation**\n",
        "\n",
        " - tf.constant([[3., 3.]]) creates a 1x2 matrix.\n",
        " - tf.matmul(matrix1, matrix2) performs the matrix multiplication."
      ]
    },
    {
      "cell_type": "markdown",
      "id": "10ce6e24-82be-468b-a63a-fb3f2a36ab3c",
      "metadata": {
        "id": "10ce6e24-82be-468b-a63a-fb3f2a36ab3c"
      },
      "source": [
        "# Practical Exercises"
      ]
    },
    {
      "cell_type": "markdown",
      "id": "2bb918d7-5899-47aa-96ba-3d3ec1dcf059",
      "metadata": {
        "id": "2bb918d7-5899-47aa-96ba-3d3ec1dcf059"
      },
      "source": [
        "## Exercise 1: Addition and Multiplication with Constants\n",
        "\n",
        "1. Create two new constants x and y with values of your choice.\n",
        "2. Add and multiply these constants.\n",
        "3. Execute the operations and display the results."
      ]
    },
    {
      "cell_type": "code",
      "execution_count": null,
      "id": "9827897e-320b-4401-8452-e42535c284be",
      "metadata": {
        "id": "9827897e-320b-4401-8452-e42535c284be"
      },
      "outputs": [],
      "source": [
        "import tensorflow as tf\n",
        "\n",
        "x = tf.constant(5)\n",
        "y = tf.constant(4)\n",
        "\n",
        "print(\"Addition with constants:\", tf.add(x, y).numpy())\n",
        "print(\"Multiplication with constants:\", tf.multiply(x, y).numpy())"
      ]
    },
    {
      "cell_type": "markdown",
      "id": "376adf13-92e3-4627-9d69-b9133f7f0183",
      "metadata": {
        "id": "376adf13-92e3-4627-9d69-b9133f7f0183"
      },
      "source": [
        "## Exercise 2: Addition and Multiplication with Variables\n",
        "\n",
        "1. Define two constants 'a' and 'b'.\n",
        "2. Define the addition and multiplication operations using tf.function.\n",
        "3. Execute the operations with different values for 'a' and 'b'."
      ]
    },
    {
      "cell_type": "code",
      "execution_count": null,
      "id": "b639dfbe-7416-416d-83ec-c03b01a9ab64",
      "metadata": {
        "id": "b639dfbe-7416-416d-83ec-c03b01a9ab64"
      },
      "outputs": [],
      "source": [
        "import tensorflow as tf\n",
        "\n",
        "@tf.function\n",
        "def compute(a, b):\n",
        "    add = tf.add(a, b)\n",
        "    mul = tf.multiply(a, b)\n",
        "    return add, mul\n",
        "\n",
        "a = tf.constant(7)\n",
        "b = tf.constant(3)\n",
        "add, mul = compute(a, b)\n",
        "print(\"Addition with variables:\", add.numpy())\n",
        "print(\"Multiplication with variables:\", mul.numpy())"
      ]
    },
    {
      "cell_type": "markdown",
      "id": "f4387e13-1257-4770-9129-408b7e696f0a",
      "metadata": {
        "id": "f4387e13-1257-4770-9129-408b7e696f0a"
      },
      "source": [
        "## Exercise 3: Matrix Multiplication\n",
        "\n",
        "1. Define two new matrices with appropriate dimensions.\n",
        "2. Multiply these matrices using tf.matmul.\n",
        "3. Execute the operation and display the result."
      ]
    },
    {
      "cell_type": "code",
      "execution_count": null,
      "id": "b456269d-b3e3-4ff2-b245-c3bec1e3b572",
      "metadata": {
        "id": "b456269d-b3e3-4ff2-b245-c3bec1e3b572"
      },
      "outputs": [],
      "source": [
        "import tensorflow as tf\n",
        "\n",
        "matrix1 = tf.constant([[1., 2.]])\n",
        "matrix2 = tf.constant([[4.], [5.]])\n",
        "\n",
        "product = tf.matmul(matrix1, matrix2)\n",
        "\n",
        "print(product.numpy())  # ==> [[14.]]"
      ]
    },
    {
      "cell_type": "markdown",
      "id": "d8fefba2-9b28-4f6a-acdd-fd714a4df9c0",
      "metadata": {
        "id": "d8fefba2-9b28-4f6a-acdd-fd714a4df9c0"
      },
      "source": [
        "## Exercise 4: Understanding Tensors\n",
        "\n",
        "1. Create tensors of various ranks: scalar, vector, matrix, and higher-dimensional tensor.\n",
        "2. Use tf.zeros and tf.ones to create tensors filled with zeros and ones.\n",
        "3. Execute operations to display the created tensors."
      ]
    },
    {
      "cell_type": "code",
      "execution_count": null,
      "id": "bf572e82-a2a0-4465-b931-9cca077e3686",
      "metadata": {
        "id": "bf572e82-a2a0-4465-b931-9cca077e3686"
      },
      "outputs": [],
      "source": [
        "import tensorflow as tf\n",
        "\n",
        "# Scalar\n",
        "scalar = tf.constant(5)\n",
        "# Vector\n",
        "vector = tf.constant([1, 2, 3, 4])\n",
        "# Matrix\n",
        "matrix = tf.constant([[1, 2], [3, 4]])\n",
        "# Higher-dimensional Tensor\n",
        "tensor = tf.constant([[[1, 2], [3, 4]], [[5, 6], [7, 8]]])\n",
        "\n",
        "# Zero tensor\n",
        "zero_tensor = tf.zeros([2, 3])\n",
        "# Ones tensor\n",
        "ones_tensor = tf.ones([3, 2])\n",
        "\n",
        "print(\"Scalar:\", scalar.numpy())\n",
        "print(\"Vector:\", vector.numpy())\n",
        "print(\"Matrix:\", matrix.numpy())\n",
        "print(\"Tensor:\", tensor.numpy())\n",
        "print(\"Zero Tensor:\\n\", zero_tensor.numpy())\n",
        "print(\"Ones Tensor:\\n\", ones_tensor.numpy())"
      ]
    },
    {
      "cell_type": "markdown",
      "id": "91cf5738-8f0d-46a6-ba67-ff237eba1b8e",
      "metadata": {
        "id": "91cf5738-8f0d-46a6-ba67-ff237eba1b8e"
      },
      "source": [
        "## Exercise 5: Tensor Operations\n",
        "\n",
        "1. Create two 1-dimensional tensors a and b with 5 elements each.\n",
        "2. Perform the following operations and display the results:\n",
        " - Element-wise addition\n",
        " - Element-wise subtraction\n",
        " - Element-wise multiplication\n",
        " - Element-wise division"
      ]
    },
    {
      "cell_type": "code",
      "execution_count": null,
      "id": "da1874d6-f8f3-4899-83cc-aa095d8ab830",
      "metadata": {
        "id": "da1874d6-f8f3-4899-83cc-aa095d8ab830"
      },
      "outputs": [],
      "source": [
        "import tensorflow as tf\n",
        "\n",
        "a = tf.constant([1, 2, 3, 4, 5])\n",
        "b = tf.constant([5, 4, 3, 2, 1])\n",
        "\n",
        "add = tf.add(a, b)\n",
        "sub = tf.subtract(a, b)\n",
        "mul = tf.multiply(a, b)\n",
        "div = tf.divide(a, b)\n",
        "\n",
        "print(\"Element-wise addition:\", add.numpy())\n",
        "print(\"Element-wise subtraction:\", sub.numpy())\n",
        "print(\"Element-wise multiplication:\", mul.numpy())\n",
        "print(\"Element-wise division:\", div.numpy())"
      ]
    },
    {
      "cell_type": "markdown",
      "id": "2d949299-3f00-47ac-baac-d730b631d88e",
      "metadata": {
        "id": "2d949299-3f00-47ac-baac-d730b631d88e"
      },
      "source": [
        "## Exercise 6: Tensor Reshaping\n",
        "\n",
        "1. Create a tensor c with shape (2, 3) filled with integers from 1 to 6.\n",
        "2. Reshape c into different shapes and display the results:\n",
        " - Shape (3, 2)\n",
        " - Shape (1, 6)\n",
        " - Shape (6, 1)"
      ]
    },
    {
      "cell_type": "code",
      "execution_count": null,
      "id": "5b4cb7b9-cc81-4290-b710-09c626120d18",
      "metadata": {
        "id": "5b4cb7b9-cc81-4290-b710-09c626120d18"
      },
      "outputs": [],
      "source": [
        "import tensorflow as tf\n",
        "\n",
        "c = tf.constant([[1, 2, 3], [4, 5, 6]])\n",
        "\n",
        "reshaped_1 = tf.reshape(c, [3, 2])\n",
        "reshaped_2 = tf.reshape(c, [1, 6])\n",
        "reshaped_3 = tf.reshape(c, [6, 1])\n",
        "\n",
        "print(\"Original shape (2, 3):\", c.numpy())\n",
        "print(\"Reshaped to (3, 2):\", reshaped_1.numpy())\n",
        "print(\"Reshaped to (1, 6):\", reshaped_2.numpy())\n",
        "print(\"Reshaped to (6, 1):\", reshaped_3.numpy())"
      ]
    },
    {
      "cell_type": "markdown",
      "id": "e50a0704-96cc-4267-8bab-7c5d56000d64",
      "metadata": {
        "id": "e50a0704-96cc-4267-8bab-7c5d56000d64"
      },
      "source": [
        "## Exercise 7: Slicing Tensors\n",
        "\n",
        "1. Create a 2-dimensional tensor d with shape (4, 4) filled with integers from 1 to 16.\n",
        "2. Extract and display the following slices:\n",
        " - The first two rows and columns.\n",
        " - The last two rows and columns.\n",
        " - A 2x2 sub-tensor from the center of the tensor."
      ]
    },
    {
      "cell_type": "code",
      "execution_count": null,
      "id": "a599a94d-f125-4d73-9cfc-882d631ef65d",
      "metadata": {
        "id": "a599a94d-f125-4d73-9cfc-882d631ef65d"
      },
      "outputs": [],
      "source": [
        "import tensorflow as tf\n",
        "\n",
        "d = tf.constant([[1, 2, 3, 4],\n",
        "                 [5, 6, 7, 8],\n",
        "                 [9, 10, 11, 12],\n",
        "                 [13, 14, 15, 16]])\n",
        "\n",
        "slice_1 = d[:2, :2]\n",
        "slice_2 = d[2:, 2:]\n",
        "slice_3 = d[1:3, 1:3]\n",
        "\n",
        "print(\"Original tensor:\\n\", d.numpy())\n",
        "print(\"First two rows and columns:\\n\", slice_1.numpy())\n",
        "print(\"Last two rows and columns:\\n\", slice_2.numpy())\n",
        "print(\"Center 2x2 sub-tensor:\\n\", slice_3.numpy())"
      ]
    },
    {
      "cell_type": "markdown",
      "id": "50c67a6f-55cf-471b-b94f-9b8dbacbb07a",
      "metadata": {
        "id": "50c67a6f-55cf-471b-b94f-9b8dbacbb07a"
      },
      "source": [
        "## Exercise 8: Mathematical Functions on Tensors\n",
        "\n",
        "1. Create a tensor e with shape (3, 3) filled with random numbers.\n",
        "2. Apply and display the results of the following functions:\n",
        " - Compute the natural logarithm (tf.math.log)\n",
        " - Compute the exponential (tf.exp)\n",
        " - Compute the square root (tf.sqrt)"
      ]
    },
    {
      "cell_type": "code",
      "execution_count": null,
      "id": "6fdd6c67-527e-4a0f-afb6-06db2dfc055c",
      "metadata": {
        "id": "6fdd6c67-527e-4a0f-afb6-06db2dfc055c"
      },
      "outputs": [],
      "source": [
        "import tensorflow as tf\n",
        "\n",
        "e = tf.random.uniform((3, 3), minval=1, maxval=10)\n",
        "\n",
        "log_e = tf.math.log(e)\n",
        "exp_e = tf.exp(e)\n",
        "sqrt_e = tf.sqrt(e)\n",
        "\n",
        "print(\"Original tensor:\\n\", e.numpy())\n",
        "print(\"Natural logarithm:\\n\", log_e.numpy())\n",
        "print(\"Exponential:\\n\", exp_e.numpy())\n",
        "print(\"Square root:\\n\", sqrt_e.numpy())"
      ]
    },
    {
      "cell_type": "markdown",
      "id": "15afbc1e-3c26-4f33-88a9-b27090215a28",
      "metadata": {
        "id": "15afbc1e-3c26-4f33-88a9-b27090215a28"
      },
      "source": [
        "## Exercise 9: Tensor Aggregations\n",
        "\n",
        "1. Create a tensor f with shape (4, 4) filled with integers from 1 to 16.\n",
        "2. Compute and display the following aggregations:\n",
        " - Sum of all elements\n",
        " - Mean of all elements\n",
        " - Maximum and minimum values"
      ]
    },
    {
      "cell_type": "code",
      "execution_count": null,
      "id": "430b9f35-3454-484e-ae74-7258db8b8af1",
      "metadata": {
        "id": "430b9f35-3454-484e-ae74-7258db8b8af1"
      },
      "outputs": [],
      "source": [
        "import tensorflow as tf\n",
        "\n",
        "f = tf.constant([[1, 2, 3, 4],\n",
        "                 [5, 6, 7, 8],\n",
        "                 [9, 10, 11, 12],\n",
        "                 [13, 14, 15, 16]])\n",
        "\n",
        "sum_f = tf.reduce_sum(f)\n",
        "mean_f = tf.reduce_mean(f)\n",
        "max_f = tf.reduce_max(f)\n",
        "min_f = tf.reduce_min(f)\n",
        "\n",
        "print(\"Original tensor:\\n\", f.numpy())\n",
        "print(\"Sum of all elements:\", sum_f.numpy())\n",
        "print(\"Mean of all elements:\", mean_f.numpy())\n",
        "print(\"Maximum value:\", max_f.numpy())\n",
        "print(\"Minimum value:\", min_f.numpy())"
      ]
    },
    {
      "cell_type": "markdown",
      "id": "87bd95c3-8e48-4ecc-8785-9f7d418a64a1",
      "metadata": {
        "id": "87bd95c3-8e48-4ecc-8785-9f7d418a64a1"
      },
      "source": [
        "## Exercise 10: Broadcasting\n",
        "\n",
        "1. Create two tensors g and h with shapes (3, 1) and (1, 3) respectively.\n",
        "2. Perform and display the result of the following operations using broadcasting:\n",
        " - Addition\n",
        " - Multiplication\n"
      ]
    },
    {
      "cell_type": "code",
      "execution_count": null,
      "id": "a7d44c3c-27de-4133-b79d-36f403b219b7",
      "metadata": {
        "id": "a7d44c3c-27de-4133-b79d-36f403b219b7"
      },
      "outputs": [],
      "source": [
        "import tensorflow as tf\n",
        "\n",
        "g = tf.constant([[1], [2], [3]])\n",
        "h = tf.constant([[4, 5, 6]])\n",
        "\n",
        "add_broadcast = tf.add(g, h)\n",
        "mul_broadcast = tf.multiply(g, h)\n",
        "\n",
        "print(\"Tensor g:\\n\", g.numpy())\n",
        "print(\"Tensor h:\\n\", h.numpy())\n",
        "print(\"Addition with broadcasting:\\n\", add_broadcast.numpy())\n",
        "print(\"Multiplication with broadcasting:\\n\", mul_broadcast.numpy())"
      ]
    }
  ],
  "metadata": {
    "kernelspec": {
      "display_name": "Python 3 (ipykernel)",
      "language": "python",
      "name": "python3"
    },
    "language_info": {
      "codemirror_mode": {
        "name": "ipython",
        "version": 3
      },
      "file_extension": ".py",
      "mimetype": "text/x-python",
      "name": "python",
      "nbconvert_exporter": "python",
      "pygments_lexer": "ipython3",
      "version": "3.11.7"
    },
    "colab": {
      "provenance": [],
      "toc_visible": true,
      "include_colab_link": true
    }
  },
  "nbformat": 4,
  "nbformat_minor": 5
}